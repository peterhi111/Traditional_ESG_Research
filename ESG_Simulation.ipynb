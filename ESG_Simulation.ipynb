{
  "nbformat": 4,
  "nbformat_minor": 0,
  "metadata": {
    "colab": {
      "name": "ESG_Simulation.ipynb",
      "private_outputs": true,
      "provenance": [],
      "collapsed_sections": []
    },
    "kernelspec": {
      "name": "python3",
      "display_name": "Python 3"
    },
    "language_info": {
      "name": "python"
    }
  },
  "cells": [
    {
      "cell_type": "markdown",
      "metadata": {
        "id": "En1Zw_A7bEX3"
      },
      "source": [
        "# ESG Data Import"
      ]
    },
    {
      "cell_type": "code",
      "metadata": {
        "id": "wLTEjknMqjlZ"
      },
      "source": [
        "import pandas as pd \n",
        "import numpy as np"
      ],
      "execution_count": null,
      "outputs": []
    },
    {
      "cell_type": "code",
      "metadata": {
        "id": "XJWhjRFN4qa0"
      },
      "source": [
        "# Importing drive method from colab for accessing google drive\n",
        "from google.colab import drive"
      ],
      "execution_count": null,
      "outputs": []
    },
    {
      "cell_type": "code",
      "metadata": {
        "id": "wOew-GR04uAo"
      },
      "source": [
        "# Mounting drive\n",
        "# This will require authentication : Follow the steps as guided\n",
        "drive.mount('/content/drive')"
      ],
      "execution_count": null,
      "outputs": []
    },
    {
      "cell_type": "code",
      "metadata": {
        "id": "DtP0xL_Y4xvj"
      },
      "source": [
        "import pandas as pd\n",
        "df=pd.read_csv('/content/drive/My Drive/RepRisk/RRI_RRR.csv')\n",
        "df.head()"
      ],
      "execution_count": null,
      "outputs": []
    },
    {
      "cell_type": "code",
      "metadata": {
        "id": "jNRxqGpgplzz"
      },
      "source": [
        "# Sort by date, make it convenient for the data visualization\n",
        "import datetime\n",
        "def change_date(s):\n",
        "    s = datetime.datetime.strptime(s, \"%Y/%m/%d\")  # Standardize the date: 2015/1/4 => 2015-01-04\n",
        "    s = str(s)  # Convert to string\n",
        "    return s[:10] # Extract the day, month and year\n",
        "\n",
        "df['date'] = df['date'].map(change_date)  \n",
        "df = df.sort_values(by='date')  # Sort by the date\n",
        "df.head()"
      ],
      "execution_count": null,
      "outputs": []
    },
    {
      "cell_type": "code",
      "metadata": {
        "id": "au8IUDDHvOsK"
      },
      "source": [
        "###show all columns\n",
        "pd.set_option('display.max_columns', None)\n",
        "pd.set_option('display.max_rows', None)"
      ],
      "execution_count": null,
      "outputs": []
    },
    {
      "cell_type": "code",
      "metadata": {
        "id": "VCF36d7OGGqy"
      },
      "source": [
        "df.info()"
      ],
      "execution_count": null,
      "outputs": []
    },
    {
      "cell_type": "markdown",
      "metadata": {
        "id": "JQqDpqDPbHLp"
      },
      "source": [
        "# Visualization\n",
        "\n",
        "references: https://www.geeksforgeeks.org/animated-data-visualization-using-plotly-express/\n",
        "\n",
        "You can draw several time series animations groupby RepRisk rating.\n",
        "\n",
        "If daily data is too large, you might want to aggregate the dataset to monthly data."
      ]
    },
    {
      "cell_type": "markdown",
      "metadata": {
        "id": "eoTS_8OmyNcy"
      },
      "source": [
        ""
      ]
    },
    {
      "cell_type": "markdown",
      "metadata": {
        "id": "JIy67OhzxBCK"
      },
      "source": [
        "Although RepRisk update their exposed ESG Rating once a month, the dataset is still too large. Thus, it doesn't look good if we put ESG Ratings of all companies along the time series in a scatter plot.\n",
        "\n",
        "Therefore, I choose two of those companies with an RepRisk_ID of 10 and 100, to make a general data visualization of the set. "
      ]
    },
    {
      "cell_type": "code",
      "metadata": {
        "id": "-ePpbwcEJUq0"
      },
      "source": [
        "#  import Plotly Express\n",
        "import plotly.express as px\n",
        "\n",
        "RepRiskRating_0 = df.query('RepRisk_ID == 10')\n",
        "px.scatter(RepRiskRating_0, x='date', y='RepRisk_rating', category_orders={'RepRisk_rating':['AAA', 'AA', 'A', 'BBB', 'BB', 'B', 'CCC', 'CC', 'C', 'D']})"
      ],
      "execution_count": null,
      "outputs": []
    },
    {
      "cell_type": "code",
      "metadata": {
        "id": "I77UdLc5JasP"
      },
      "source": [
        "RepRiskRating_1 = df.query('RepRisk_ID == 10')\n",
        "px.scatter(RepRiskRating_1, x='country_sector_average', y='RepRisk_rating', category_orders={'RepRisk_rating':['AAA', 'AA', 'A', 'BBB', 'BB', 'B', 'CCC', 'CC', 'C', 'D']})"
      ],
      "execution_count": null,
      "outputs": []
    },
    {
      "cell_type": "code",
      "metadata": {
        "id": "J2a94_aDbuc1"
      },
      "source": [
        "RepRiskRating_2 = df.query('RepRisk_ID == 10')\n",
        "px.scatter(RepRiskRating_2, x='peak_RRI', y='RepRisk_rating', category_orders={'RepRisk_rating':['AAA', 'AA', 'A', 'BBB', 'BB', 'B', 'CCC', 'CC', 'C', 'D']})"
      ],
      "execution_count": null,
      "outputs": []
    },
    {
      "cell_type": "code",
      "metadata": {
        "id": "lyqi7oQxEEns"
      },
      "source": [
        "#  import Plotly Express\n",
        "import plotly.express as px\n",
        "\n",
        "RepRiskRating_0 = df.query('RepRisk_ID == 100')\n",
        "px.scatter(RepRiskRating_0, x='date', y='RepRisk_rating', category_orders={'RepRisk_rating':['AAA', 'AA', 'A', 'BBB', 'BB', 'B', 'CCC', 'CC', 'C', 'D']})"
      ],
      "execution_count": null,
      "outputs": []
    },
    {
      "cell_type": "code",
      "metadata": {
        "id": "fZ94VjCiFqga"
      },
      "source": [
        "RepRiskRating_1 = df.query('RepRisk_ID == 100')\n",
        "px.scatter(RepRiskRating_1, x='country_sector_average', y='RepRisk_rating', category_orders={'RepRisk_rating':['AAA', 'AA', 'A', 'BBB', 'BB', 'B', 'CCC', 'CC', 'C', 'D']})"
      ],
      "execution_count": null,
      "outputs": []
    },
    {
      "cell_type": "code",
      "metadata": {
        "id": "kK3LJ-tqFs9k"
      },
      "source": [
        "RepRiskRating_2 = df.query('RepRisk_ID == 100')\n",
        "px.scatter(RepRiskRating_2, x='peak_RRI', y='RepRisk_rating', category_orders={'RepRisk_rating':['AAA', 'AA', 'A', 'BBB', 'BB', 'B', 'CCC', 'CC', 'C', 'D']})"
      ],
      "execution_count": null,
      "outputs": []
    },
    {
      "cell_type": "code",
      "metadata": {
        "id": "82FpWFWG-B84"
      },
      "source": [
        "#RepRiskRating_1 = df.query('RepRisk_ID < 70')\n",
        "#px.scatter(RepRiskRating_1, x='peak_RRI', y='RepRisk_rating', category_orders={'RepRisk_rating':['AAA', 'AA', 'A', 'BBB', 'BB', 'B', 'CCC', 'CC', 'C', 'D']})"
      ],
      "execution_count": null,
      "outputs": []
    },
    {
      "cell_type": "code",
      "metadata": {
        "id": "DBx2c_1DzO3f"
      },
      "source": [
        "#RepRiskRating_1 = df.query('RepRisk_ID < 70')\n",
        "#px.scatter(RepRiskRating_1, x='country_sector_average', y='RepRisk_rating', category_orders={'RepRisk_rating':['AAA', 'AA', 'A', 'BBB', 'BB', 'B', 'CCC', 'CC', 'C', 'D']})"
      ],
      "execution_count": null,
      "outputs": []
    },
    {
      "cell_type": "code",
      "metadata": {
        "id": "0Dx-yDw0-MsF"
      },
      "source": [
        "#RepRiskRating_1 = df.query('RepRisk_ID < 70')\n",
        "#px.scatter(RepRiskRating_1, x='peak_RRI', y='country_sector_average')"
      ],
      "execution_count": null,
      "outputs": []
    },
    {
      "cell_type": "markdown",
      "metadata": {
        "id": "2Evx9DMQGzmz"
      },
      "source": [
        "Based on the methodology of RepRisk Rating (RRR), it is calculated by two factors - Peak RRI & Country-Sector Average. According to the simple data analysis we have done, we know that they have already provided the data of two factors."
      ]
    },
    {
      "cell_type": "markdown",
      "metadata": {
        "id": "cDhBHibhG-uB"
      },
      "source": [
        "From the above figures, we can also find that the company with lower average score of country-sector average and Peak RRI has a better RepRisk rating."
      ]
    },
    {
      "cell_type": "markdown",
      "metadata": {
        "id": "EZFylxvYb4-T"
      },
      "source": [
        "# Simulation\n",
        "\n",
        "\n",
        "You can generate randomly generage a large enough cross-sections dataset so that RRR/RRI can be calculated. \n",
        "\n",
        "Generate random numbers: https://www.tutorialspoint.com/generating-random-number-list-in-python\n",
        "\n",
        "Generate random item from a list: https://stackoverflow.com/questions/306400/how-to-randomly-select-an-item-from-a-list\n",
        "\n",
        "Calculate RRR/RRI based on existing variables (use apply or lambda):\n",
        "https://pandas.pydata.org/docs/reference/api/pandas.DataFrame.apply.html\n",
        "https://www.analyticsvidhya.com/blog/2020/03/what-are-lambda-functions-in-python/\n",
        "\n",
        "\n",
        "\n",
        "Advanced\n",
        "http://users.iems.northwestern.edu/~nelsonb/IEMS435/PythonSim.pdf\n",
        "https://realpython.com/simpy-simulating-with-python/"
      ]
    },
    {
      "cell_type": "markdown",
      "metadata": {
        "id": "aohRo7s7UKRd"
      },
      "source": [
        "It's weird that although RepRisk claimed that the RRR is a letter rating, they set the data type of RRR as int. \n",
        "\n",
        "Since RepRisk regard RRR's data type as int, I assume each RRR level is corresponding to a certain region of scales (the whole region is from 0 - 100)."
      ]
    },
    {
      "cell_type": "code",
      "metadata": {
        "id": "1JH7rVP6T14K"
      },
      "source": [
        "from prettytable import PrettyTable\n",
        "x = PrettyTable([\"RepRisk Rating(RRR)\", \"Scale\"])\n",
        "x.add_row([\"AAA\", \"0-10\"])\n",
        "x.add_row([\"AA\", \"11-20\"])\n",
        "x.add_row([\"A\", \"21-30\"])\n",
        "x.add_row([\"BBB\", \"31-40\"])\n",
        "x.add_row([\"BB\", \"41-50\"])\n",
        "x.add_row([\"B\", \"51-60\"])\n",
        "x.add_row([\"CCC\", \"61-70\"])\n",
        "x.add_row([\"CC\", \"71-80\"])\n",
        "x.add_row([\"C\", \"81-90\"])\n",
        "x.add_row([\"D\", \"91-100\"])\n",
        "print(x)"
      ],
      "execution_count": null,
      "outputs": []
    },
    {
      "cell_type": "code",
      "metadata": {
        "id": "zgiA8fMb6czv"
      },
      "source": [
        "import random\n",
        "randomlist_peakRRI = random.sample(range(1, 100), 90)\n",
        "print(randomlist_peakRRI)"
      ],
      "execution_count": null,
      "outputs": []
    },
    {
      "cell_type": "code",
      "metadata": {
        "id": "HryV-2c0voHP"
      },
      "source": [
        "randomlist_countrysector = random.sample(range(1, 100), 90)\n",
        "print(randomlist_countrysector)"
      ],
      "execution_count": null,
      "outputs": []
    },
    {
      "cell_type": "code",
      "metadata": {
        "id": "DZKUy1w6vydT"
      },
      "source": [
        "df_1 = pd.DataFrame({'Peak_RRI': pd.Series(randomlist_peakRRI), 'Countrysector_Average': pd.Series(randomlist_countrysector)})\n",
        "df_1"
      ],
      "execution_count": null,
      "outputs": []
    },
    {
      "cell_type": "code",
      "metadata": {
        "id": "ziFZa-IKJWbV"
      },
      "source": [
        "df_2 = df_1.apply(np.sum, axis=1)\n",
        "df_3 = df_2 / 2\n",
        "df_3"
      ],
      "execution_count": null,
      "outputs": []
    },
    {
      "cell_type": "code",
      "metadata": {
        "id": "-ojVw7A8dGYf"
      },
      "source": [
        "def rating(ave):\n",
        "  pred_rate = ''\n",
        "  if 0<=ave<=10:\n",
        "    pred_rate = 'AAA'\n",
        "  elif 10<ave<=20:\n",
        "    pred_rate = 'AA'\n",
        "  elif 20<ave<=30:\n",
        "    pred_rate = 'A'\n",
        "  elif 30<ave<=40:\n",
        "    pred_rate = 'BBB'\n",
        "  elif 40<ave<=50:\n",
        "    pred_rate = 'BB'\n",
        "  elif 50<ave<=60:\n",
        "    pred_rate = 'B'\n",
        "  elif 60<ave<=70:\n",
        "    pred_rate = 'CCC'\n",
        "  elif 70<ave<=80:\n",
        "    pred_rate = 'CC'\n",
        "  elif 80<ave<=90:\n",
        "    pred_rate = 'C'\n",
        "  else:\n",
        "    pred_rate = 'D'\n",
        "  return pred_rate"
      ],
      "execution_count": null,
      "outputs": []
    },
    {
      "cell_type": "code",
      "metadata": {
        "id": "LnLPQ7F3dLHz"
      },
      "source": [
        "df_4 = df_3.apply(rating)"
      ],
      "execution_count": null,
      "outputs": []
    },
    {
      "cell_type": "code",
      "metadata": {
        "id": "4tuWbbr3VqS1"
      },
      "source": [
        "df_4"
      ],
      "execution_count": null,
      "outputs": []
    },
    {
      "cell_type": "code",
      "metadata": {
        "id": "4W3684FbvrXD"
      },
      "source": [
        ""
      ],
      "execution_count": null,
      "outputs": []
    }
  ]
}